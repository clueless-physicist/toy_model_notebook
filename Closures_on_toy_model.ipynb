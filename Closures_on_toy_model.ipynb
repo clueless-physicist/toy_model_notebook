{
 "cells": [
  {
   "cell_type": "markdown",
   "metadata": {},
   "source": [
    "# Closure test and toy model"
   ]
  },
  {
   "cell_type": "markdown",
   "metadata": {},
   "source": [
    "In this notebook we implement the results presented in the notes about the polynomial toy model.\n",
    "The idea should be that of applying a level-2 closure test using a polynomial low to generate fake data, and again a polynomial law with higher degree to fit them."
   ]
  },
  {
   "cell_type": "code",
   "execution_count": 1,
   "metadata": {},
   "outputs": [],
   "source": [
    "import copy\n",
    "from math import sqrt\n",
    "\n",
    "from __future__ import print_function\n",
    "from ipywidgets import interact, interactive, fixed, interact_manual\n",
    "import ipywidgets as widgets\n",
    "from IPython.display import display\n",
    "import numpy as np\n",
    "from numpy.linalg import inv\n",
    "import matplotlib.pyplot as plt\n",
    "\n",
    "from nb_functions import generate_noise, generate_x, generate_hoc, fit_law, generate_y, tv_split, sgd_step\n"
   ]
  },
  {
   "cell_type": "markdown",
   "metadata": {},
   "source": [
    "Define the number of fake esperimental point to be taken, the error over each of them and the region of x we want to consider.\n",
    "Choose the underlying law you want to use to generate fake data. "
   ]
  },
  {
   "cell_type": "code",
   "execution_count": 2,
   "metadata": {},
   "outputs": [],
   "source": [
    "#number of experimental points\n",
    "#N_x = 100\n",
    "\n",
    "#error over them, for now the same for all the points\n",
    "#sigma = 0.1\n",
    "\n",
    "#x_i = 0.4  # let's take x_min > 0 to modelize a low-x extrapolation region \n",
    "#x_f = 1\n",
    "x_seed, noise_seed = 123, 456\n",
    "N_x, sigma, x_i, x_f, N_law = 100, 0.1, 0.4, 1, 2\n",
    "#y = c[0]x + c[1] linear law\n",
    "c = np.ones(N_law)"
   ]
  },
  {
   "cell_type": "markdown",
   "metadata": {},
   "source": [
    "Define the experimental points x"
   ]
  },
  {
   "cell_type": "code",
   "execution_count": 3,
   "metadata": {
    "scrolled": true
   },
   "outputs": [
    {
     "data": {
      "text/plain": [
       "(0, 1)"
      ]
     },
     "execution_count": 3,
     "metadata": {},
     "output_type": "execute_result"
    },
    {
     "data": {
      "image/png": "[encoded data removed]",
      "text/plain": [
       "<Figure size 432x288 with 1 Axes>"
      ]
     },
     "metadata": {},
     "output_type": "display_data"
    }
   ],
   "source": [
    "np.random.seed(x_seed)\n",
    "x =  x_i + np.random.rand(N_x)*(x_f-x_i)\n",
    "plt.plot(x, np.zeros_like(x), 'x')\n",
    "plt.xlim(0, 1)\n"
   ]
  },
  {
   "cell_type": "markdown",
   "metadata": {},
   "source": [
    "Define the degree of the polynomial to be use as model to fit and the number of replicas."
   ]
  },
  {
   "cell_type": "code",
   "execution_count": 4,
   "metadata": {},
   "outputs": [],
   "source": [
    "#degree of the polynomial function used to fit\n",
    "N_model = 3\n",
    "\n",
    "#number of replicas\n",
    "N_rep = 20\n"
   ]
  },
  {
   "cell_type": "code",
   "execution_count": 5,
   "metadata": {},
   "outputs": [],
   "source": [
    "#level-1 randoom noise, same for every replicas\n",
    "N_max = max([N_model, N_law])\n",
    "ho_c = np.zeros(N_x)\n",
    "for i in range(N_model, N_max):\n",
    "    ho_c += c[i]*x**i\n",
    "\n",
    "np.random.seed(noise_seed)\n",
    "eta = sigma*np.random.randn(N_x)\n",
    "eta_rep = np.zeros((N_x, N_rep))\n",
    "\n",
    "for k in range(N_rep):\n",
    "    eta_rep[:,k] = eta + ho_c\n",
    "\n",
    "#lvel-2 noise\n",
    "delta = sigma*np.random.randn(N_x, N_rep)\n",
    "\n",
    "#total error for each replicas\n",
    "e_rep = eta_rep + delta "
   ]
  },
  {
   "cell_type": "markdown",
   "metadata": {},
   "source": [
    "Define the matrix of the moments A^(-1) and the vector v according to the equations below."
   ]
  },
  {
   "cell_type": "code",
   "execution_count": 6,
   "metadata": {},
   "outputs": [
    {
     "data": {
      "text/latex": [
       "$$v=E\\left[\\eta x^{i}\\right]$$\n",
       "$$ (A^{-1})_{ij}= E\\left[x^{i+j}\\right]$$"
      ],
      "text/plain": [
       "<IPython.core.display.Latex object>"
      ]
     },
     "metadata": {},
     "output_type": "display_data"
    }
   ],
   "source": [
    "%%latex\n",
    "$$v=E\\left[\\eta x^{i}\\right]$$\n",
    "$$ (A^{-1})_{ij}= E\\left[x^{i+j}\\right]$$\n"
   ]
  },
  {
   "cell_type": "code",
   "execution_count": 7,
   "metadata": {},
   "outputs": [],
   "source": [
    "#matrix of moments & vector of moments\n",
    "\n",
    "A_inverse = np.zeros((N_model, N_model))\n",
    "v = np.zeros((N_model, N_rep))\n",
    "v_exact = np.zeros((N_model))\n",
    "\n",
    "for k in range(N_rep):\n",
    "    for i in range(N_model):\n",
    "        v_exact[i] = ((eta + ho_c)*(x**(i))).mean()\n",
    "        v[i][k] = (e_rep[:,k]*(x**(i))).mean()\n",
    "        for j in range(N_model):\n",
    "            A_inverse[i, j] = (x**(i+j)).mean()"
   ]
  },
  {
   "cell_type": "markdown",
   "metadata": {},
   "source": [
    "In order to find the solution of the system we need to invert the matrix using the function inv.\n",
    "Playing a bit with the code one can see that incresing too much the N_model parameters, this matrix is no more positive according to python..not sure if this is a numerical issue or if at some point the matrix is no more invertible.."
   ]
  },
  {
   "cell_type": "code",
   "execution_count": 8,
   "metadata": {},
   "outputs": [
    {
     "data": {
      "text/plain": [
       "True"
      ]
     },
     "execution_count": 8,
     "metadata": {},
     "output_type": "execute_result"
    }
   ],
   "source": [
    "#is the linear system solvable?\n",
    "np.all(np.linalg.eigvals(A_inverse) > 0)"
   ]
  },
  {
   "cell_type": "code",
   "execution_count": 9,
   "metadata": {},
   "outputs": [],
   "source": [
    "#implement the solution of the linear sistem\n",
    "#gamma_i = A_ij v_j + c_i\n",
    "\n",
    "#inverte the matrix in order to have the one giving the solution if the linear system\n",
    "A = inv(A_inverse)\n",
    "#construct c\n",
    "N_c = min(N_law, N_model)\n",
    "c_padded = np.zeros(N_model)\n",
    "c_padded[:N_c] = c[:N_c]\n",
    "\n",
    "c_rep = np.zeros((N_model, N_rep))\n",
    "for k in range(N_rep):\n",
    "    c_rep[:,k] = c_padded\n"
   ]
  },
  {
   "cell_type": "markdown",
   "metadata": {},
   "source": [
    "In the notes we claim that the matrix A is positive definite.\n",
    "Let's check this explicitly here using numpy"
   ]
  },
  {
   "cell_type": "code",
   "execution_count": 10,
   "metadata": {},
   "outputs": [
    {
     "data": {
      "text/plain": [
       "True"
      ]
     },
     "execution_count": 10,
     "metadata": {},
     "output_type": "execute_result"
    }
   ],
   "source": [
    "np.all(np.linalg.eigvals(A) > 0)"
   ]
  },
  {
   "cell_type": "code",
   "execution_count": 11,
   "metadata": {},
   "outputs": [
    {
     "name": "stdout",
     "output_type": "stream",
     "text": [
      "[[ 0.85688517  0.70225282  0.84468181  0.56696515  0.75482085  1.19659891\n",
      "   0.66051976  0.76216152  0.85159395  0.70055371  1.06495547  0.97269479\n",
      "   0.8277521   1.18143413  0.6919708   1.02601939  1.2699146   0.62592313\n",
      "   0.67636082  0.87562163]\n",
      " [ 1.50784469  1.94536078  1.48923016  2.09599406  1.71102682  0.62042588\n",
      "   2.19125659  1.81161112  1.52491822  1.95135159  0.88332602  1.21119143\n",
      "   1.6491868   0.53275672  2.00839567  1.01455097  0.29227397  2.00631924\n",
      "   2.08041997  1.29877819]\n",
      " [-0.39151859 -0.70364443 -0.32536071 -0.66271739 -0.47543254  0.17561597\n",
      "  -0.92970656 -0.62915998 -0.42759185 -0.67908523  0.05473573 -0.21119619\n",
      "  -0.49271308  0.33749581 -0.72122502 -0.02266569  0.5101155  -0.65749327\n",
      "  -0.80554685 -0.15209041]]\n"
     ]
    }
   ],
   "source": [
    "#solution of the linear system\n",
    "gamma = np.matmul(A, v) + c_rep\n",
    "print(gamma)"
   ]
  },
  {
   "cell_type": "code",
   "execution_count": 12,
   "metadata": {},
   "outputs": [
    {
     "data": {
      "image/png": "[encoded data removed]",
      "text/plain": [
       "<Figure size 432x288 with 1 Axes>"
      ]
     },
     "metadata": {},
     "output_type": "display_data"
    }
   ],
   "source": [
    "x_interpolate = np.linspace(0, x_f, 200)\n",
    "y_fakedata = copy.deepcopy(eta)\n",
    "y_underlyinglaw = np.zeros(x_interpolate.shape)\n",
    "\n",
    "for i in range(N_law):\n",
    "    y_fakedata += c[i]*x**i\n",
    "    y_underlyinglaw += c[i]*x_interpolate**i\n",
    "\n",
    "y_fitted = np.zeros((200, N_rep))\n",
    "\n",
    "for k in range(N_rep):\n",
    "    for i in range(N_model):\n",
    "        y_fitted[:,k] += gamma[i][k]*x_interpolate**i\n",
    "         \n",
    "plt.figure()\n",
    "plt.plot(x, y_fakedata, '*b', label='fake data central')\n",
    "plt.plot(x_interpolate, y_underlyinglaw, '-k',\n",
    "         label='underlying law')\n",
    "plt.plot(x_interpolate, y_fitted, '--r')\n",
    "plt.xlim(0,x_f)\n",
    "plt.ylim(0, 5)\n",
    "plt.legend()\n",
    "plt.show()"
   ]
  },
  {
   "cell_type": "markdown",
   "metadata": {},
   "source": [
    "From the notes we know that Var(gamma_i) is given by sigma^2 A_ii.\n",
    "In particular Var(gamma_0) = sigma^2 A_00. This is what we are interested in when looking at the error in the extrapolation region."
   ]
  },
  {
   "cell_type": "code",
   "execution_count": 13,
   "metadata": {},
   "outputs": [
    {
     "name": "stdout",
     "output_type": "stream",
     "text": [
      "0.04252804120060267\n",
      "0.03907311671915059\n"
     ]
    }
   ],
   "source": [
    "print(sigma*sigma/N_x*A[0][0])\n",
    "print(gamma[0].std()**2)"
   ]
  },
  {
   "cell_type": "code",
   "execution_count": 14,
   "metadata": {},
   "outputs": [
    {
     "name": "stdout",
     "output_type": "stream",
     "text": [
      "-0.026779195145161003\n"
     ]
    }
   ],
   "source": [
    "deltachi2 = -np.matmul(v_exact,np.matmul(A, v_exact))/(sigma*sigma)\n",
    "print(deltachi2)"
   ]
  },
  {
   "cell_type": "code",
   "execution_count": 15,
   "metadata": {},
   "outputs": [
    {
     "data": {
      "application/vnd.jupyter.widget-view+json": {
       "model_id": "114b287978614b8880a9b9e43015c93d",
       "version_major": 2,
       "version_minor": 0
      },
      "text/plain": [
       "interactive(children=(IntSlider(value=2, description='N_model', max=10, min=2), IntSlider(value=2, description…"
      ]
     },
     "metadata": {},
     "output_type": "display_data"
    }
   ],
   "source": [
    "model_slider = widgets.IntSlider(min=2,max=10,step=1,value=2)\n",
    "law_slider = widgets.IntSlider(min=2,max=10,step=1,value=2)\n",
    "Nx_slider = widgets.IntSlider(min=2,max=300,step=1,value=100)\n",
    "level_slider = widgets.IntSlider(min=1,max=2,step=1,value=2)\n",
    "rep_slider = widgets.IntSlider(min=1,max=100,step=1,value=10)\n",
    "sigma_slider = widgets.FloatSlider(min=0.0, max=0.5, step=0.05, value=0.1)\n",
    "xi_slider = widgets.FloatSlider(min=0.0, max=1, step=0.1, value=0.4)\n",
    "xf_slider = widgets.FloatSlider(min=0.4, max=5.0, step=0.1, value=1.0)\n",
    "\n",
    "def update_xi_range(*args):\n",
    "    xi_slider.max = xf_slider.value - xi_slider.step\n",
    "xf_slider.observe(update_xi_range, 'value')\n",
    "def update_xf_range(*args):\n",
    "    xf_slider.min = xi_slider.value + xf_slider.step\n",
    "xi_slider.observe(update_xf_range, 'value')\n",
    "\n",
    "def plot_fit(N_model, N_law, N_x, level, N_rep, sigma, x_i, x_f, x_seed, noise_seed):\n",
    "    N_int = 200\n",
    "    x = generate_x(N_x, x_i, x_f, x_seed=x_seed)\n",
    "    noise = generate_noise(sigma, N_x, N_rep, level=level, noise_seed=noise_seed)\n",
    "    eta_ = generate_noise(sigma, N_x, 1, level=1, noise_seed=noise_seed)\n",
    "    hoc = generate_hoc(x, N_model, N_law, N_rep)\n",
    "    gamma = fit_law(x, noise, hoc, N_model, N_law, N_rep)\n",
    "    x_interpolate = np.linspace(0, x_f, 200)\n",
    "    y_fakedata = generate_y(x, np.ones(N_law)) + eta_[:, 0]\n",
    "    y_underlyinglaw = generate_y(x_interpolate, np.ones(N_law))\n",
    "    y_fitted = np.zeros((200, N_rep))\n",
    "    for k in range(N_rep):\n",
    "        y_fitted[:,k] = generate_y(x_interpolate, gamma[:, k])\n",
    "    plt.figure()\n",
    "    plt.plot(x, y_fakedata, '*b', label='fake data central')\n",
    "    plt.plot(x_interpolate, y_underlyinglaw, '-k',\n",
    "         label='underlying law')\n",
    "    plt.plot(x_interpolate, y_fitted, '--r')\n",
    "    plt.xlim(0,x_f)\n",
    "    plt.legend()\n",
    "    plt.show()\n",
    "\n",
    "    \n",
    "interactive_plot = interactive(plot_fit, N_model=model_slider, N_law=law_slider, N_x=Nx_slider, level=level_slider,\n",
    "                                N_rep=rep_slider, sigma=sigma_slider, x_i=xi_slider, x_f=xf_slider, \n",
    "                                x_seed=fixed(x_seed), noise_seed=fixed(noise_seed))\n",
    "output = interactive_plot.children[-1]\n",
    "output.layout.height = '350px'\n",
    "interactive_plot\n"
   ]
  },
  {
   "cell_type": "markdown",
   "metadata": {},
   "source": [
    "Now we should try doing a training/validation split, can begin by minimising on both sets analytically. Since data is generated uniformly, we can take the first half as training data and the second half as validation."
   ]
  },
  {
   "cell_type": "code",
   "execution_count": 16,
   "metadata": {},
   "outputs": [
    {
     "data": {
      "image/png": "[encoded data removed]",
      "text/plain": [
       "<Figure size 432x288 with 1 Axes>"
      ]
     },
     "metadata": {},
     "output_type": "display_data"
    }
   ],
   "source": [
    "x_total = generate_x(N_x, x_i, x_f, x_seed=x_seed)\n",
    "noise = generate_noise(sigma, N_x, N_rep, level=2, noise_seed=noise_seed)\n",
    "eta_ = generate_noise(sigma, N_x, 1, level=1, noise_seed=noise_seed)\n",
    "hoc = generate_hoc(x_total, N_model, N_law, N_rep)\n",
    "\n",
    "x_train = x_total[:int(N_x/2)]\n",
    "x_valid = x_total[int(N_x/2):]\n",
    "n_train = noise[:int(N_x/2)]\n",
    "n_valid = noise[int(N_x/2):]\n",
    "e_train = eta_[:int(N_x/2)]\n",
    "e_valid = eta_[int(N_x/2):]\n",
    "h_train = hoc[:int(N_x/2)]\n",
    "h_valid = hoc[int(N_x/2):]\n",
    "\n",
    "g_train = fit_law(x_train, n_train, h_train, N_model, N_law, N_rep)\n",
    "g_valid = fit_law(x_valid, n_valid, h_valid, N_model, N_law, N_rep)\n",
    "\n",
    "x_interpolate = np.linspace(0, x_f, 200)\n",
    "\n",
    "y_faket = generate_y(x_train, np.ones(N_law)) + e_train[:, 0]\n",
    "y_fakev = generate_y(x_valid, np.ones(N_law)) + e_valid[:, 0]\n",
    "\n",
    "y_underlyinglaw = generate_y(x_interpolate, np.ones(N_law))\n",
    "y_t = np.zeros((200, N_rep))\n",
    "for k in range(N_rep):\n",
    "    y_t[:,k] = generate_y(x_interpolate, g_train[:, k])\n",
    "y_v = np.zeros((200, N_rep))\n",
    "for k in range(N_rep):\n",
    "    y_v[:,k] = generate_y(x_interpolate, g_valid[:, k])\n",
    "\n",
    "plt.figure()\n",
    "plt.plot(x_train, y_faket, '*b', label='fake train data')\n",
    "plt.plot(x_valid, y_fakev, '*r', label='fake valid data')\n",
    "plt.plot(x_interpolate, y_underlyinglaw, '-k',\n",
    "     label='underlying law')\n",
    "plt.plot(x_interpolate, y_t, '--b')\n",
    "plt.plot(x_interpolate, y_v, '--r')\n",
    "plt.xlim(0,x_f)\n",
    "plt.legend()\n",
    "plt.show()"
   ]
  },
  {
   "cell_type": "markdown",
   "metadata": {},
   "source": [
    "One can do a similar test, we can set 3 different N_law: 2, 3, 4 and N_model = 3 (So under parameterisation, correct and over). One can then perform the analytical fit on a set of training data and then using those parameters we can find the chi2 on the validation set. The gap between the two could be interesting and relate to the ability of the model to overfit according to the training validation data."
   ]
  },
  {
   "cell_type": "code",
   "execution_count": 17,
   "metadata": {},
   "outputs": [
    {
     "name": "stdout",
     "output_type": "stream",
     "text": [
      "86.72016891093988\n",
      "81.8320862748671\n"
     ]
    },
    {
     "data": {
      "image/png": "[encoded data removed]",
      "text/plain": [
       "<Figure size 432x288 with 1 Axes>"
      ]
     },
     "metadata": {},
     "output_type": "display_data"
    }
   ],
   "source": [
    "N_rep_gap = 1000\n",
    "N_law_gap = 3\n",
    "N_models = [3, 15]\n",
    "d = np.zeros((len(N_models), N_rep_gap))\n",
    "plt.figure()\n",
    "ctg_mean = 0\n",
    "n_gap = generate_noise(sigma, N_x, N_rep_gap, level=2, noise_seed=noise_seed)\n",
    "n_train_gap = n_gap[:int(N_x/2)]\n",
    "n_valid_gap = n_gap[int(N_x/2):]\n",
    "for i, N_m in enumerate(N_models):\n",
    "    h_train_gap = generate_hoc(x_train, N_m, N_law_gap, N_rep_gap)\n",
    "    g_t_gap = fit_law(x_train, n_train_gap, h_train_gap, N_m, N_law_gap, N_rep_gap)\n",
    "    y_t_gap = np.zeros((int(N_x/2), N_rep_gap))\n",
    "    y_v_gap = np.zeros((int(N_x/2), N_rep_gap))\n",
    "    for k in range(N_rep_gap):\n",
    "        y_t_gap = generate_y(x_train, g_t_gap[:, k])\n",
    "        y_v_gap = generate_y(x_valid, g_t_gap[:, k])\n",
    "        y_faket_gap = generate_y(x_train, np.ones(N_law_gap)) + n_train_gap[:, k]\n",
    "        y_fakev_gap = generate_y(x_valid, np.ones(N_law_gap)) + n_valid_gap[:, k]\n",
    "        ctg = (np.sum(((y_faket_gap - y_t_gap)**2)/(sigma**2)))\n",
    "        cvg = (np.sum(((y_fakev_gap - y_v_gap)**2)/(sigma**2)))\n",
    "        d[i, k] = (cvg - ctg)\n",
    "        ctg_mean += ctg\n",
    "    ctg_mean = ctg_mean/N_rep_gap\n",
    "    print(ctg_mean)\n",
    "    plt.hist((d[i, :]), bins=np.linspace(-100, 300, 100), alpha=0.3, label=str(N_m))\n",
    "plt.legend()\n",
    "plt.show()"
   ]
  },
  {
   "cell_type": "markdown",
   "metadata": {},
   "source": [
    "We can go back to the original expression for chi^2 and calculate the gradient with respect to each parameter\n",
    "and then do a numerical update, on level 1 data only"
   ]
  },
  {
   "cell_type": "code",
   "execution_count": 18,
   "metadata": {},
   "outputs": [
    {
     "data": {
      "image/png": "[encoded data removed]",
      "text/plain": [
       "<Figure size 432x288 with 1 Axes>"
      ]
     },
     "metadata": {},
     "output_type": "display_data"
    },
    {
     "name": "stdout",
     "output_type": "stream",
     "text": [
      "2999\n"
     ]
    },
    {
     "data": {
      "image/png": "[encoded data removed]",
      "text/plain": [
       "<Figure size 432x288 with 1 Axes>"
      ]
     },
     "metadata": {},
     "output_type": "display_data"
    }
   ],
   "source": [
    "steps = 3000\n",
    "gamma_t = np.random.rand(N_model) + 0.5\n",
    "y_train = generate_y(x_train, gamma_t)\n",
    "chi2 = np.zeros(steps)\n",
    "chi2_valid = np.zeros(steps)\n",
    "gamma_hist = np.zeros((steps, N_model))\n",
    "grad_chi2 = np.zeros(N_model)\n",
    "lr = 0.000005\n",
    "y_analytic_t = np.zeros((50, N_rep))\n",
    "y_analytic_v = np.zeros((50, N_rep))\n",
    "gamma_analytic = fit_law(x_train, e_train, h_train, N_model, N_law, 1)\n",
    "y_analytic_t = generate_y(x_train, gamma_analytic)\n",
    "y_analytic_v = generate_y(x_valid, gamma_analytic)\n",
    "    \n",
    "for k in range(steps):\n",
    "    for i in range(N_model):\n",
    "        grad_chi2[i] = np.sum((-2*(x_train**(i))*(y_faket - y_train))/(sigma**2))\n",
    "    gamma_t -= lr*grad_chi2\n",
    "    y_train = generate_y(x_train, gamma_t)\n",
    "    chi2[k] = np.sum(((y_faket - y_train)**2)/(sigma**2))\n",
    "    y_valid = generate_y(x_valid, gamma_t)\n",
    "    chi2_valid[k] = np.sum(((y_fakev - y_valid)**2)/(sigma**2))\n",
    "    gamma_hist[k, :] = gamma_t\n",
    "lookback = np.argmin(chi2_valid)\n",
    "gamma_lookback = gamma_hist[lookback, :]\n",
    "chi2_at = (np.sum(((y_faket - y_analytic_t)**2)/(sigma**2)))*np.ones(steps)\n",
    "chi2_av = (np.sum(((y_fakev - y_analytic_v)**2)/(sigma**2)))*np.ones(steps)\n",
    "\n",
    "plt.figure()\n",
    "plt.plot(chi2, label='train')\n",
    "plt.plot(chi2_valid, label='valid')\n",
    "plt.plot(chi2_at, label='analytic train')\n",
    "plt.plot(chi2_av, label='analytic valid')\n",
    "plt.ylim(30, 150)\n",
    "plt.legend()\n",
    "plt.show()\n",
    "print(lookback)\n",
    "y_fitted = generate_y(x_interpolate, gamma_lookback)\n",
    "plt.figure()\n",
    "plt.plot(x_train, y_faket, '*b', label='fake data central')\n",
    "plt.plot(x_valid, y_fakev, '*r', label='fake data central')\n",
    "plt.plot(x_interpolate, y_underlyinglaw, '-k',\n",
    "     label='underlying law')\n",
    "plt.plot(x_interpolate, y_fitted, '--b')\n",
    "plt.xlim(0,x_f)\n",
    "plt.legend()\n",
    "plt.show()"
   ]
  },
  {
   "cell_type": "markdown",
   "metadata": {},
   "source": [
    "For repeating the exercise on extra replicas, we need to be able to shuffle the training validation sets. The\n",
    "selection will now be done randomly, I may wish to seed this in the future to certify results."
   ]
  },
  {
   "cell_type": "code",
   "execution_count": 19,
   "metadata": {},
   "outputs": [
    {
     "ename": "KeyboardInterrupt",
     "evalue": "",
     "output_type": "error",
     "traceback": [
      "\u001b[0;31m---------------------------------------------------------------------------\u001b[0m",
      "\u001b[0;31mKeyboardInterrupt\u001b[0m                         Traceback (most recent call last)",
      "\u001b[0;32m<ipython-input-19-46c2019c7dc8>\u001b[0m in \u001b[0;36m<module>\u001b[0;34m()\u001b[0m\n\u001b[1;32m     23\u001b[0m             \u001b[0mgrad_chi2\u001b[0m\u001b[0;34m[\u001b[0m\u001b[0mj\u001b[0m\u001b[0;34m]\u001b[0m \u001b[0;34m=\u001b[0m \u001b[0mnp\u001b[0m\u001b[0;34m.\u001b[0m\u001b[0msum\u001b[0m\u001b[0;34m(\u001b[0m\u001b[0;34m(\u001b[0m\u001b[0;34m-\u001b[0m\u001b[0;36m2\u001b[0m\u001b[0;34m*\u001b[0m\u001b[0;34m(\u001b[0m\u001b[0mx_total\u001b[0m\u001b[0;34m[\u001b[0m\u001b[0mi_t\u001b[0m\u001b[0;34m]\u001b[0m\u001b[0;34m**\u001b[0m\u001b[0;34m(\u001b[0m\u001b[0mj\u001b[0m\u001b[0;34m)\u001b[0m\u001b[0;34m)\u001b[0m\u001b[0;34m*\u001b[0m\u001b[0;34m(\u001b[0m\u001b[0my_fake\u001b[0m\u001b[0;34m[\u001b[0m\u001b[0mi_t\u001b[0m\u001b[0;34m]\u001b[0m \u001b[0;34m-\u001b[0m \u001b[0my_fit\u001b[0m\u001b[0;34m[\u001b[0m\u001b[0mi_t\u001b[0m\u001b[0;34m]\u001b[0m\u001b[0;34m)\u001b[0m\u001b[0;34m)\u001b[0m\u001b[0;34m/\u001b[0m\u001b[0;34m(\u001b[0m\u001b[0msigma\u001b[0m\u001b[0;34m**\u001b[0m\u001b[0;36m2\u001b[0m\u001b[0;34m)\u001b[0m\u001b[0;34m)\u001b[0m\u001b[0;34m\u001b[0m\u001b[0m\n\u001b[1;32m     24\u001b[0m         \u001b[0mgamma_fullfit\u001b[0m \u001b[0;34m-=\u001b[0m \u001b[0mlr\u001b[0m\u001b[0;34m*\u001b[0m\u001b[0mgrad_chi2\u001b[0m\u001b[0;34m\u001b[0m\u001b[0m\n\u001b[0;32m---> 25\u001b[0;31m         \u001b[0my_fit\u001b[0m \u001b[0;34m=\u001b[0m \u001b[0mgenerate_y\u001b[0m\u001b[0;34m(\u001b[0m\u001b[0mx_total\u001b[0m\u001b[0;34m,\u001b[0m \u001b[0mgamma_fullfit\u001b[0m\u001b[0;34m)\u001b[0m\u001b[0;34m\u001b[0m\u001b[0m\n\u001b[0m\u001b[1;32m     26\u001b[0m         \u001b[0mchi2_fullfit\u001b[0m\u001b[0;34m[\u001b[0m\u001b[0mk\u001b[0m\u001b[0;34m,\u001b[0m \u001b[0mi\u001b[0m\u001b[0;34m]\u001b[0m \u001b[0;34m=\u001b[0m \u001b[0mnp\u001b[0m\u001b[0;34m.\u001b[0m\u001b[0msum\u001b[0m\u001b[0;34m(\u001b[0m\u001b[0;34m(\u001b[0m\u001b[0;34m(\u001b[0m\u001b[0my_fake\u001b[0m\u001b[0;34m[\u001b[0m\u001b[0mi_t\u001b[0m\u001b[0;34m]\u001b[0m \u001b[0;34m-\u001b[0m \u001b[0my_fit\u001b[0m\u001b[0;34m[\u001b[0m\u001b[0mi_t\u001b[0m\u001b[0;34m]\u001b[0m\u001b[0;34m)\u001b[0m\u001b[0;34m**\u001b[0m\u001b[0;36m2\u001b[0m\u001b[0;34m)\u001b[0m\u001b[0;34m/\u001b[0m\u001b[0;34m(\u001b[0m\u001b[0msigma\u001b[0m\u001b[0;34m**\u001b[0m\u001b[0;36m2\u001b[0m\u001b[0;34m)\u001b[0m\u001b[0;34m)\u001b[0m\u001b[0;34m\u001b[0m\u001b[0m\n\u001b[1;32m     27\u001b[0m         \u001b[0my_valid\u001b[0m \u001b[0;34m=\u001b[0m \u001b[0mgenerate_y\u001b[0m\u001b[0;34m(\u001b[0m\u001b[0mx_valid\u001b[0m\u001b[0;34m,\u001b[0m \u001b[0mgamma_fullfit\u001b[0m\u001b[0;34m)\u001b[0m\u001b[0;34m\u001b[0m\u001b[0m\n",
      "\u001b[0;32m~/nnpdfgit/nnpdf-methodology/stat_estimators/scripts/nb_functions.py\u001b[0m in \u001b[0;36mgenerate_y\u001b[0;34m(x, coeff)\u001b[0m\n\u001b[1;32m     58\u001b[0m     \u001b[0my\u001b[0m \u001b[0;34m=\u001b[0m \u001b[0mnp\u001b[0m\u001b[0;34m.\u001b[0m\u001b[0mzeros\u001b[0m\u001b[0;34m(\u001b[0m\u001b[0mx\u001b[0m\u001b[0;34m.\u001b[0m\u001b[0mshape\u001b[0m\u001b[0;34m)\u001b[0m\u001b[0;34m\u001b[0m\u001b[0m\n\u001b[1;32m     59\u001b[0m     \u001b[0;32mfor\u001b[0m \u001b[0mi\u001b[0m\u001b[0;34m,\u001b[0m \u001b[0mc\u001b[0m \u001b[0;32min\u001b[0m \u001b[0menumerate\u001b[0m\u001b[0;34m(\u001b[0m\u001b[0mcoeff\u001b[0m\u001b[0;34m)\u001b[0m\u001b[0;34m:\u001b[0m\u001b[0;34m\u001b[0m\u001b[0m\n\u001b[0;32m---> 60\u001b[0;31m         \u001b[0my\u001b[0m \u001b[0;34m+=\u001b[0m \u001b[0mc\u001b[0m\u001b[0;34m*\u001b[0m\u001b[0;34m(\u001b[0m\u001b[0mx\u001b[0m\u001b[0;34m**\u001b[0m\u001b[0;34m(\u001b[0m\u001b[0mi\u001b[0m\u001b[0;34m)\u001b[0m\u001b[0;34m)\u001b[0m\u001b[0;34m\u001b[0m\u001b[0m\n\u001b[0m\u001b[1;32m     61\u001b[0m     \u001b[0;32mreturn\u001b[0m \u001b[0my\u001b[0m\u001b[0;34m\u001b[0m\u001b[0m\n\u001b[1;32m     62\u001b[0m \u001b[0;34m\u001b[0m\u001b[0m\n",
      "\u001b[0;31mKeyboardInterrupt\u001b[0m: "
     ]
    },
    {
     "data": {
      "text/plain": [
       "<Figure size 432x288 with 0 Axes>"
      ]
     },
     "metadata": {},
     "output_type": "display_data"
    }
   ],
   "source": [
    "N_rep = 100\n",
    "x_total = generate_x(N_x, x_i, x_f, x_seed=None)\n",
    "noise = generate_noise(sigma, N_x, N_rep, level=2, noise_seed=noise_seed)\n",
    "chi2_fullfit = np.zeros((N_rep, steps))\n",
    "chi2_v_fullfit = np.zeros((N_rep, steps))\n",
    "gamma_hist_fullfit = np.zeros((N_rep, steps, N_model))\n",
    "y_plotrep = np.zeros((x_interpolate.shape[0], N_rep))\n",
    "y_data_lb = np.zeros((N_x, N_rep))\n",
    "lookback_hist = np.zeros(N_rep)\n",
    "plt.figure()\n",
    "g_min = np.min(g_train, axis=1)\n",
    "g_max = np.max(g_train, axis=1)\n",
    "\n",
    "\n",
    "for k in range(N_rep):\n",
    "    np.random.seed(None)\n",
    "    i_t, i_v = tv_split(N_x)\n",
    "    y_fake = generate_y(x_total, np.ones(N_law)) + noise[:, k]\n",
    "    gamma_fullfit = (g_max - g_min)*np.random.rand(N_model) + g_min\n",
    "    y_fit = generate_y(x_total, gamma_fullfit) \n",
    "    for i in range(steps):\n",
    "        for j in range(N_model):\n",
    "            grad_chi2[j] = np.sum((-2*(x_total[i_t]**(j))*(y_fake[i_t] - y_fit[i_t]))/(sigma**2))\n",
    "        gamma_fullfit -= lr*grad_chi2\n",
    "        y_fit = generate_y(x_total, gamma_fullfit)\n",
    "        chi2_fullfit[k, i] = np.sum(((y_fake[i_t] - y_fit[i_t])**2)/(sigma**2))\n",
    "        y_valid = generate_y(x_valid, gamma_fullfit)\n",
    "        chi2_v_fullfit[k, i] = np.sum(((y_fake[i_v] - y_fit[i_v])**2)/(sigma**2))\n",
    "        gamma_hist_fullfit[k, i, :] = gamma_fullfit\n",
    "    lookback = np.argmin(chi2_v_fullfit[k, :])\n",
    "    lookback_hist[k] = lookback\n",
    "    y_plotrep[:, k] = generate_y(x_interpolate, gamma_hist_fullfit[k, lookback, :])\n",
    "    y_data_lb[:, k] = generate_y(x_total, gamma_hist_fullfit[k, lookback, :])\n",
    "plt.plot(x_interpolate, y_plotrep, '-')\n",
    "lookback_full = np.argmin(chi2_v_fullfit, axis=1)\n",
    "plt.plot(x_interpolate, y_underlyinglaw, '-k', label='underlying law')\n",
    "plt.xlim(0, x_f)\n",
    "plt.legend()\n",
    "plt.show()\n",
    "\n",
    "plt.figure()\n",
    "plt.hist(lookback_hist, bins=20)\n",
    "plt.show()\n"
   ]
  },
  {
   "cell_type": "code",
   "execution_count": null,
   "metadata": {},
   "outputs": [],
   "source": [
    "y_lvlone = generate_y(x_total, np.ones(N_law)) + generate_noise(sigma, N_x, 1, level=1, noise_seed=noise_seed)[:, 0]\n",
    "y_lvlzero = generate_y(x_total, np.ones(N_law))\n",
    "y_central = y_data_lb.mean(axis=1)\n",
    "    \n",
    "chi2_central = np.sum(((y_lvlone - y_central)**2)/(sigma**2))\n",
    "chi2_in = np.sum(((y_lvlone - y_lvlzero)**2)/(sigma**2))\n",
    "\n",
    "(chi2_central - chi2_in)/chi2_in"
   ]
  },
  {
   "cell_type": "markdown",
   "metadata": {},
   "source": [
    "We should bootstrap deltachi2 across replicas to get an idea of the stability of the result"
   ]
  },
  {
   "cell_type": "code",
   "execution_count": null,
   "metadata": {},
   "outputs": [],
   "source": [
    "N_boot = 1000\n",
    "delta_chi2_boot_tv = np.zeros(N_boot)\n",
    "for i in range(N_boot):\n",
    "    np.random.seed(None)\n",
    "    y_boot = y_data_lb[:, np.random.randint(0, N_rep, size=N_rep)].mean(axis=1)\n",
    "    chi2_central_boot = np.sum(((y_lvlone - y_boot)**2)/(sigma**2))\n",
    "    delta_chi2_boot_tv[i] = (chi2_central_boot - chi2_in)/chi2_in\n",
    "plt.figure()\n",
    "plt.hist(delta_chi2_boot_tv)\n",
    "plt.show()"
   ]
  },
  {
   "cell_type": "markdown",
   "metadata": {},
   "source": [
    "Now we want to see what happens when we just do a fit without using cross validation"
   ]
  },
  {
   "cell_type": "code",
   "execution_count": null,
   "metadata": {},
   "outputs": [],
   "source": [
    "gamma_nocross = np.zeros((N_rep, N_model))\n",
    "y_plotrep_nocross = np.zeros((x_interpolate.shape[0], N_rep))\n",
    "y_data_lb_nocross = np.zeros((N_x, N_rep))\n",
    "\n",
    "for k in range(N_rep):\n",
    "    y_fake = generate_y(x_total, np.ones(N_law)) + noise[:, k]\n",
    "    np.random.seed(None)\n",
    "    gamma_fullfit = (g_max - g_min)*np.random.rand(N_model) + g_min\n",
    "    y_fit = generate_y(x_total, gamma_fullfit) \n",
    "    for i in range(steps):\n",
    "        for j in range(N_model):\n",
    "            grad_chi2[j] = np.sum((-2*(x_total**(j))*(y_fake - y_fit))/(sigma**2))\n",
    "        gamma_fullfit -= lr*grad_chi2\n",
    "        y_fit = generate_y(x_total, gamma_fullfit)\n",
    "    gamma_nocross[k, :] = gamma_fullfit\n",
    "    y_plotrep_nocross[:, k] = generate_y(x_interpolate, gamma_nocross[k, :])\n",
    "    y_data_lb_nocross[:, k] = generate_y(x_total, gamma_nocross[k, :])\n",
    "plt.figure()\n",
    "plt.plot(x_interpolate, y_plotrep_nocross, '-')\n",
    "plt.plot(x_interpolate, y_underlyinglaw, '-k', label='underlying law')\n",
    "plt.xlim(0, x_f)\n",
    "plt.legend()\n",
    "plt.show()"
   ]
  },
  {
   "cell_type": "code",
   "execution_count": null,
   "metadata": {},
   "outputs": [],
   "source": [
    "y_central_nocross = y_data_lb_nocross.mean(axis=1)\n",
    "    \n",
    "chi2_central_nocross = np.sum(((y_lvlone - y_central_nocross)**2)/(sigma**2))\n",
    "(chi2_central_nocross - chi2_in)/chi2_in"
   ]
  },
  {
   "cell_type": "code",
   "execution_count": null,
   "metadata": {},
   "outputs": [],
   "source": [
    "N_boot = 1000\n",
    "delta_chi2_boot = np.zeros(N_boot)\n",
    "for i in range(N_boot):\n",
    "    y_boot = y_data_lb_nocross[:, np.random.randint(0, N_rep, size=N_rep)].mean(axis=1)\n",
    "    chi2_central_boot = np.sum(((y_lvlone - y_boot)**2)/(sigma**2))\n",
    "    delta_chi2_boot[i] = (chi2_central_boot - chi2_in)/chi2_in\n",
    "plt.figure()\n",
    "plt.hist(delta_chi2_boot, bins=np.linspace(-0.1, 0.1, 30), alpha=0.3, label='No T/V split')\n",
    "plt.hist(delta_chi2_boot_tv, bins=np.linspace(-0.1, 0.1, 30), alpha=0.3, label='with T/V split')\n",
    "plt.show()"
   ]
  },
  {
   "cell_type": "markdown",
   "metadata": {},
   "source": [
    "Try using SGD instead of simple gradient decent"
   ]
  },
  {
   "cell_type": "code",
   "execution_count": null,
   "metadata": {},
   "outputs": [],
   "source": [
    "steps = 3000\n",
    "lr = 0.00001\n",
    "gamma_t = (g_max - g_min)*np.random.rand(N_model) + g_min\n",
    "chi2 = np.zeros(steps)\n",
    "chi2_valid = np.zeros(steps)\n",
    "gamma_hist = np.zeros((steps, N_model))\n",
    "N_batch = 25\n",
    "for k in range(steps):\n",
    "    gamma_t = sgd_step(N_batch, x_train, y_faket, gamma_t, lr, sigma)\n",
    "    y_train = generate_y(x_train, gamma_t)\n",
    "    chi2[k] = np.sum(((y_faket - y_train)**2)/(sigma**2))\n",
    "    y_valid = generate_y(x_valid, gamma_t)\n",
    "    chi2_valid[k] = np.sum(((y_fakev - y_valid)**2)/(sigma**2))\n",
    "    gamma_hist[k, :] = gamma_t\n",
    "lookback = np.argmin(chi2_valid)\n",
    "gamma_lookback = gamma_hist[lookback, :]\n",
    "chi2_at = (np.sum(((y_faket - y_analytic_t)**2)/(sigma**2)))*np.ones(steps)\n",
    "chi2_av = (np.sum(((y_fakev - y_analytic_v)**2)/(sigma**2)))*np.ones(steps)\n",
    "\n",
    "plt.figure()\n",
    "plt.plot(chi2, label='train')\n",
    "plt.plot(chi2_valid, label='valid')\n",
    "plt.plot(chi2_at, '--k', label='analytic train')\n",
    "plt.plot(chi2_av, '-.k', label='analytic valid')\n",
    "plt.ylim(30, 80)\n",
    "plt.legend()\n",
    "plt.show()\n",
    "print(lookback)"
   ]
  },
  {
   "cell_type": "markdown",
   "metadata": {},
   "source": [
    "Now for replicas with level 2 noise"
   ]
  },
  {
   "cell_type": "code",
   "execution_count": null,
   "metadata": {},
   "outputs": [],
   "source": [
    "steps = 5000\n",
    "lr = 0.00001\n",
    "N_rep = 100\n",
    "N_batch = 25\n",
    "x_total = generate_x(N_x, x_i, x_f, x_seed=x_seed)\n",
    "noise_s = generate_noise(sigma, N_x, N_rep, level=2, noise_seed=noise_seed)\n",
    "hoc_s = generate_hoc(x_total, N_model, N_law, N_rep)\n",
    "\n",
    "chi2_fullfit = np.zeros((N_rep, steps))\n",
    "chi2_v_fullfit = np.zeros((N_rep, steps))\n",
    "chiav = np.zeros((N_rep, steps))\n",
    "chiat = np.zeros((N_rep, steps))\n",
    "gamma_hist_fullfit = np.zeros((N_rep, steps, N_model))\n",
    "gamma_analytic = np.zeros((N_rep, N_model))\n",
    "y_plotrep = np.zeros((x_interpolate.shape[0], N_rep))\n",
    "y_data_lb = np.zeros((N_x, N_rep))\n",
    "lookback_hist = np.zeros(N_rep)\n",
    "#i_t_hist = np.zeros((N_rep, int(N_x/2)))\n",
    "#i_v_hist = np.zeros((N_rep, int(N_x/2)))\n",
    "\n",
    "for k in range(N_rep):\n",
    "    np.random.seed(None)\n",
    "    i_t, i_v = tv_split(N_x)\n",
    "    #i_t_hist[k, :], i_v_hist[k, :] = i_t, i_v\n",
    "    y_fake = generate_y(x_total, np.ones(N_law)) + noise_s[:, k]\n",
    "    gamma_fullfit = (g_max - g_min)*np.random.rand(N_model) + g_min\n",
    "    y_fit = generate_y(x_total, gamma_fullfit) \n",
    "    for i in range(steps):\n",
    "        gamma_fullfit = sgd_step(N_batch, x_total[i_t], y_fake[i_t], gamma_fullfit, lr, sigma)\n",
    "        y_fit = generate_y(x_total, gamma_fullfit)\n",
    "        chi2_fullfit[k, i] = np.sum(((y_fake[i_t] - y_fit[i_t])**2)/(sigma**2))\n",
    "        chi2_v_fullfit[k, i] = np.sum(((y_fake[i_v] - y_fit[i_v])**2)/(sigma**2))\n",
    "        gamma_hist_fullfit[k, i, :] = gamma_fullfit\n",
    "    lookback = np.argmin(chi2_v_fullfit[k, :])\n",
    "    lookback_hist[k] = lookback\n",
    "    y_plotrep[:, k] = generate_y(x_interpolate, gamma_hist_fullfit[k, lookback, :])\n",
    "    y_data_lb[:, k] = generate_y(x_total, gamma_hist_fullfit[k, lookback, :])\n",
    "    gamma_analytic[k, :] = fit_law(x_total[i_t], noise_s[i_t, k, np.newaxis], hoc_s[i_t, k, np.newaxis],\n",
    "                                   N_model, N_law, 1)[:, 0]\n",
    "    y_analytic_v = generate_y(x_total[i_v], gamma_analytic[k, :])\n",
    "    y_analytic_t = generate_y(x_total[i_t], gamma_analytic[k, :])\n",
    "    chiat[k, :] = (np.sum(((y_fake[i_t] - y_analytic_t)**2)/(sigma**2)))*np.ones(steps)\n",
    "    chiav[k, :] = (np.sum(((y_fake[i_v] - y_analytic_v)**2)/(sigma**2)))*np.ones(steps)\n",
    "plt.figure(figsize=(12, 4.5))    \n",
    "y_quantile = np.percentile(y_plotrep, [16, 50, 84], axis=1)\n",
    "plt.subplot(121)\n",
    "plt.plot(x_interpolate, y_plotrep, '-')\n",
    "lookback_full = np.argmin(chi2_v_fullfit, axis=1)\n",
    "plt.plot(x_interpolate, y_underlyinglaw, '-k', label='underlying law')\n",
    "plt.xlim(0, x_f)\n",
    "plt.legend()\n",
    "plt.subplot(122)\n",
    "plt.fill_between(x_interpolate, y_quantile[0, :], y_quantile[2, :])\n",
    "plt.plot(x_interpolate, y_quantile[1, :], '-k')\n",
    "plt.xlim(0, x_f)\n",
    "plt.show()\n",
    "\n",
    "plt.figure()\n",
    "plt.hist(lookback_hist, bins=20)\n",
    "plt.show()"
   ]
  },
  {
   "cell_type": "code",
   "execution_count": null,
   "metadata": {},
   "outputs": [],
   "source": [
    "rep_slider = widgets.IntSlider(min=0,max=N_rep-1,step=1,value=0)\n",
    "chi2_fullfit\n",
    "chi2_v_fullfit\n",
    "def plot_chi2(rep, chit, chiv, chiat, chiav):\n",
    "    plt.figure()\n",
    "    plt.plot(chit[rep, :], label='train')\n",
    "    plt.plot(chiv[rep, :], label='valid')\n",
    "    plt.plot(chiat[rep, :], '--k', label='train analytic')\n",
    "    plt.plot(chiav[rep, :], '-.k', label='valid analytic')\n",
    "    lb = np.argmin(chiv[rep, :])\n",
    "    plt.plot(lb, chiv[rep, lb], '*')\n",
    "    plt.ylim(30, 150)\n",
    "    plt.legend()\n",
    "    plt.show()\n",
    "\n",
    "interactive_plot = interactive(plot_chi2, rep=rep_slider, chit=fixed(chi2_fullfit), chiv=fixed(chi2_v_fullfit),\n",
    "                               chiat=fixed(chiat), chiav=fixed(chiav))\n",
    "output = interactive_plot.children[-1]\n",
    "output.layout.height = '350px'\n",
    "interactive_plot\n"
   ]
  },
  {
   "cell_type": "code",
   "execution_count": null,
   "metadata": {},
   "outputs": [],
   "source": [
    "yta = np.zeros((x_interpolate.shape[0], N_rep))\n",
    "for k in range(N_rep):\n",
    "    yta[:, k] = generate_y(x_interpolate, gamma_analytic[k, :])\n",
    "plt.figure(figsize=(12, 4.5))    \n",
    "yta_quantile = np.percentile(yta, [16, 50, 84], axis=1)\n",
    "plt.subplot(121)\n",
    "plt.plot(x_interpolate, yta, '-')\n",
    "plt.plot(x_interpolate, y_underlyinglaw, '-k', label='underlying law')\n",
    "plt.xlim(0, x_f)\n",
    "plt.legend()\n",
    "plt.subplot(122)\n",
    "plt.fill_between(x_interpolate, yta_quantile[0, :], yta_quantile[2, :], facecolor='green', alpha=0.3)\n",
    "plt.fill_between(x_interpolate, y_quantile[0, :], y_quantile[2, :], facecolor='red', alpha=0.3)\n",
    "plt.plot(x_interpolate, yta_quantile[1, :], '-r', label='analytic')\n",
    "plt.plot(x_interpolate, y_quantile[1, :], '-g', label='numerical')\n",
    "plt.plot(x_interpolate, y_underlyinglaw, '-k', label='underlying law')\n",
    "plt.legend()\n",
    "plt.xlim(0, x_f)\n",
    "plt.show()"
   ]
  },
  {
   "cell_type": "code",
   "execution_count": null,
   "metadata": {},
   "outputs": [],
   "source": [
    "y_lvlone = generate_y(x_total, np.ones(N_law)) + generate_noise(sigma, N_x, 1, level=1, noise_seed=noise_seed)[:, 0]\n",
    "\n",
    "y_lvlzero = generate_y(x_total, np.ones(N_law))\n",
    "y_central = y_data_lb.mean(axis=1)\n",
    "chi2_in = np.sum(((y_lvlone - y_lvlzero)**2)/(sigma**2))\n",
    "N_boot = 1000\n",
    "delta_chi2_boot = np.zeros(N_boot)\n",
    "np.random.seed(None)\n",
    "for i in range(N_boot):\n",
    "    y_boot = y_data_lb[:, np.random.randint(0, N_rep, size=N_rep)].mean(axis=1)\n",
    "    chi2_central_boot = np.sum(((y_lvlone - y_boot)**2)/(sigma**2))\n",
    "    delta_chi2_boot[i] = (chi2_central_boot - chi2_in)/chi2_in\n",
    "    \n",
    "dca_boot = np.zeros(N_boot)\n",
    "ya = np.zeros((N_x, N_rep))\n",
    "\n",
    "for k in range(N_rep):\n",
    "    ya[:, k] = generate_y(x_total, gamma_analytic[k, :])\n",
    "np.random.seed(None)\n",
    "for i in range(N_boot):\n",
    "    y_boot = ya[:, np.random.randint(0, N_rep, size=N_rep)].mean(axis=1)\n",
    "    chi2_central_boot = np.sum(((y_lvlone - y_boot)**2)/(sigma**2))\n",
    "    dca_boot[i] = (chi2_central_boot - chi2_in)/chi2_in\n",
    "\n",
    "plt.figure()\n",
    "plt.hist(delta_chi2_boot, facecolor='blue', alpha=0.3, label='numerical')\n",
    "plt.hist(dca_boot, facecolor='red', alpha=0.3, label='analytical')\n",
    "plt.legend()\n",
    "plt.show()"
   ]
  },
  {
   "cell_type": "code",
   "execution_count": null,
   "metadata": {},
   "outputs": [],
   "source": []
  },
  {
   "cell_type": "code",
   "execution_count": null,
   "metadata": {},
   "outputs": [],
   "source": []
  }
 ],
 "metadata": {
  "kernelspec": {
   "display_name": "Python 3",
   "language": "python",
   "name": "python3"
  },
  "language_info": {
   "codemirror_mode": {
    "name": "ipython",
    "version": 3
   },
   "file_extension": ".py",
   "mimetype": "text/x-python",
   "name": "python",
   "nbconvert_exporter": "python",
   "pygments_lexer": "ipython3",
   "version": "3.6.5"
  }
 },
 "nbformat": 4,
 "nbformat_minor": 2
}
